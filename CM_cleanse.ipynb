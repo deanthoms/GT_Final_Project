{
 "cells": [
  {
   "cell_type": "code",
   "execution_count": 39,
   "metadata": {},
   "outputs": [],
   "source": [
    "import nltk\n",
    "import re"
   ]
  },
  {
   "cell_type": "code",
   "execution_count": 101,
   "metadata": {},
   "outputs": [
    {
     "data": {
      "text/plain": [
       "'  :  -- meet your 11 test   '"
      ]
     },
     "execution_count": 101,
     "metadata": {},
     "output_type": "execute_result"
    }
   ],
   "source": [
    "from nltk.tokenize import word_tokenize\n",
    "text = \" rt @raffertie: .. -- Meet your 11 TEST http://bit.ly/15SSCI  @test\"\n",
    "#lowercase\n",
    "text = text.lower()\n",
    "#removes @'s'\n",
    "text = re.sub(r'@[A-Za-z0-9]+','',text)\n",
    "#removes links\n",
    "text = re.sub('https?://[A-Za-z0-9./]+','',text)\n",
    "#removes rt\n",
    "text = text.replace(u\"rt\", \"\")\n",
    "\n",
    "text"
   ]
  },
  {
   "cell_type": "code",
   "execution_count": 105,
   "metadata": {},
   "outputs": [],
   "source": [
    "text = re.sub(r'([^\\s\\w]|_)+', '', text)"
   ]
  },
  {
   "cell_type": "code",
   "execution_count": 106,
   "metadata": {},
   "outputs": [],
   "source": [
    "text2 = word_tokenize(text)"
   ]
  },
  {
   "cell_type": "code",
   "execution_count": 107,
   "metadata": {},
   "outputs": [
    {
     "data": {
      "text/plain": [
       "['meet', 'your', '11', 'test']"
      ]
     },
     "execution_count": 107,
     "metadata": {},
     "output_type": "execute_result"
    }
   ],
   "source": [
    "text2"
   ]
  },
  {
   "cell_type": "code",
   "execution_count": null,
   "metadata": {},
   "outputs": [],
   "source": [
    "#TO DO:\n",
    "\n",
    "#NOTE: NEED TO ADD A DECODER FOR NON STANDARD LANGUAGE LIKE � SUCH AS:\n",
    "#(found online via https://towardsdatascience.com/another-twitter-sentiment-analysis-bb5b01ebad90)\n",
    "#decoder = df.text[226].decode(\"utf-8-sig\")\n",
    "#testing\n",
    "#testing.replace(u\"\\ufffd\", \"?\")\n",
    "\n",
    "#Replace elongated words\n",
    "\n",
    "#Remove stopwords\n",
    "\n",
    "#Handle negation with antonyms\n",
    "\n",
    "\n",
    "#HELPFUL LINKS:\n",
    "\n",
    "#DEANS LINK: https://towardsdatascience.com/keras-challenges-the-avengers-541346acb804\n",
    "\n",
    "# LINK CONOR FOUND: https://towardsdatascience.com/another-twitter-sentiment-analysis-bb5b01ebad90"
   ]
  }
 ],
 "metadata": {
  "kernelspec": {
   "display_name": "Python 36 (PythonData36)",
   "language": "python",
   "name": "pythondata"
  }
 },
 "nbformat": 4,
 "nbformat_minor": 2
}
