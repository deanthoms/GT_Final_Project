{
 "cells": [
  {
   "cell_type": "markdown",
   "metadata": {},
   "source": [
    "### Sentiment with LSTM"
   ]
  },
  {
   "cell_type": "code",
   "execution_count": null,
   "metadata": {},
   "outputs": [],
   "source": [
    "# Dependancies\n",
    "import pandas as pd\n",
    "import os"
   ]
  },
  {
   "cell_type": "code",
   "execution_count": null,
   "metadata": {},
   "outputs": [],
   "source": [
    "# Read preprocessed data into dataframe\n",
    "file = os.path.join('..', 'Output', 'tweets1.csv' )\n",
    "tweet_df = pd.read_csv(file)\n",
    "print(tweet_df.count())\n",
    "\n",
    "# Drop Null values from data frame\n",
    "tweet_df = tweet_df.dropna(subset=['Tokenized'])\n",
    "print(tweet_df.count())\n",
    "\n",
    "tweet_df.head()"
   ]
  },
  {
   "cell_type": "code",
   "execution_count": 3,
   "metadata": {},
   "outputs": [
    {
     "name": "stderr",
     "output_type": "stream",
     "text": [
      "Using TensorFlow backend.\n"
     ]
    },
    {
     "name": "stdout",
     "output_type": "stream",
     "text": [
      "Sentiment 1 count: 163878\n",
      "Sentiment 0 count: 127248\n"
     ]
    },
    {
     "data": {
      "text/html": [
       "<div>\n",
       "<style scoped>\n",
       "    .dataframe tbody tr th:only-of-type {\n",
       "        vertical-align: middle;\n",
       "    }\n",
       "\n",
       "    .dataframe tbody tr th {\n",
       "        vertical-align: top;\n",
       "    }\n",
       "\n",
       "    .dataframe thead th {\n",
       "        text-align: right;\n",
       "    }\n",
       "</style>\n",
       "<table border=\"1\" class=\"dataframe\">\n",
       "  <thead>\n",
       "    <tr style=\"text-align: right;\">\n",
       "      <th></th>\n",
       "      <th>ItemID</th>\n",
       "      <th>Sentiment</th>\n",
       "      <th>Tokenized</th>\n",
       "    </tr>\n",
       "  </thead>\n",
       "  <tbody>\n",
       "    <tr>\n",
       "      <th>0</th>\n",
       "      <td>1</td>\n",
       "      <td>0</td>\n",
       "      <td>sad friend</td>\n",
       "    </tr>\n",
       "    <tr>\n",
       "      <th>1</th>\n",
       "      <td>2</td>\n",
       "      <td>0</td>\n",
       "      <td>miss new moon trailer</td>\n",
       "    </tr>\n",
       "    <tr>\n",
       "      <th>2</th>\n",
       "      <td>3</td>\n",
       "      <td>1</td>\n",
       "      <td>already</td>\n",
       "    </tr>\n",
       "    <tr>\n",
       "      <th>3</th>\n",
       "      <td>4</td>\n",
       "      <td>0</td>\n",
       "      <td>cry dentist since get crown put min</td>\n",
       "    </tr>\n",
       "    <tr>\n",
       "      <th>4</th>\n",
       "      <td>5</td>\n",
       "      <td>0</td>\n",
       "      <td>think mi cheating</td>\n",
       "    </tr>\n",
       "  </tbody>\n",
       "</table>\n",
       "</div>"
      ],
      "text/plain": [
       "   ItemID  Sentiment                            Tokenized\n",
       "0       1          0                           sad friend\n",
       "1       2          0                miss new moon trailer\n",
       "2       3          1                              already\n",
       "3       4          0  cry dentist since get crown put min\n",
       "4       5          0                    think mi cheating"
      ]
     },
     "execution_count": 3,
     "metadata": {},
     "output_type": "execute_result"
    }
   ],
   "source": [
    "# Add sequence vectors \n",
    "from keras.preprocessing.text import Tokenizer\n",
    "from keras.preprocessing.sequence import pad_sequences\n",
    "\n",
    "max_fatures = 2000\n",
    "\n",
    "print(f'Sentiment 1 count: ' + str(tweet_df[ tweet_df['Sentiment'] == 1].size))\n",
    "print(f'Sentiment 0 count: ' + str(tweet_df[ tweet_df['Sentiment'] == 0].size))\n",
    "\n",
    "docs = tweet_df.Tokenized\n",
    "tokenizer = Tokenizer(num_words=max_fatures, split=\" \")\n",
    "tokenizer.fit_on_texts(docs)\n",
    "\n",
    "#making sequences:\n",
    "X = tokenizer.texts_to_sequences(docs.values)\n",
    "X = pad_sequences(X)\n",
    "tweet_df.head()"
   ]
  },
  {
   "cell_type": "code",
   "execution_count": 4,
   "metadata": {},
   "outputs": [
    {
     "name": "stdout",
     "output_type": "stream",
     "text": [
      "Model: \"sequential_1\"\n",
      "_________________________________________________________________\n",
      "Layer (type)                 Output Shape              Param #   \n",
      "=================================================================\n",
      "embedding_1 (Embedding)      (None, 35, 128)           256000    \n",
      "_________________________________________________________________\n",
      "spatial_dropout1d_1 (Spatial (None, 35, 128)           0         \n",
      "_________________________________________________________________\n",
      "lstm_1 (LSTM)                (None, 196)               254800    \n",
      "_________________________________________________________________\n",
      "dense_1 (Dense)              (None, 2)                 394       \n",
      "=================================================================\n",
      "Total params: 511,194\n",
      "Trainable params: 511,194\n",
      "Non-trainable params: 0\n",
      "_________________________________________________________________\n",
      "None\n"
     ]
    }
   ],
   "source": [
    "# Build model\n",
    "from keras.models import Sequential\n",
    "from keras.layers import Dense, Embedding, LSTM, SpatialDropout1D\n",
    "\n",
    "embed_dim = 128\n",
    "lstm_out = 196\n",
    "\n",
    "model = Sequential()\n",
    "model.add(Embedding(max_fatures, embed_dim,input_length = X.shape[1]))\n",
    "model.add(SpatialDropout1D(0.4))\n",
    "model.add(LSTM(lstm_out, dropout=0.2, recurrent_dropout=0.2))\n",
    "model.add(Dense(2,activation='softmax'))\n",
    "model.compile(loss = 'sparse_categorical_crossentropy', optimizer='adam', metrics = ['accuracy'])\n",
    "print(model.summary())"
   ]
  },
  {
   "cell_type": "code",
   "execution_count": 5,
   "metadata": {},
   "outputs": [
    {
     "name": "stdout",
     "output_type": "stream",
     "text": [
      "Train set has total 65018 entries with 43.73% negative, 56.27% positive\n",
      "Test set has total 32024 entries with 43.66% negative, 56.34% positive\n",
      "(65018, 35) (65018,)\n",
      "(32024, 35) (32024,)\n"
     ]
    }
   ],
   "source": [
    "# Split data into test, train sets\n",
    "from sklearn.model_selection import train_test_split\n",
    "\n",
    "y = tweet_df.Sentiment\n",
    "X_train, X_test, y_train, y_test = train_test_split(X, y, test_size = 0.33, random_state = 42)\n",
    "print(\"Train set has total {0} entries with {1:.2f}% negative, {2:.2f}% positive\".format(len(X_train),\n",
    "(len(X_train[y_train == 0]) / (len(X_train)*1.))*100,\n",
    "(len(X_train[y_train == 1]) / (len(X_train)*1.))*100))\n",
    "print(\"Test set has total {0} entries with {1:.2f}% negative, {2:.2f}% positive\".format(len(X_test),\n",
    "(len(X_test[y_test == 0]) / (len(X_test)*1.))*100,\n",
    "(len(X_test[y_test == 1]) / (len(X_test)*1.))*100))\n",
    "\n",
    "#X_train, X_test, y_train, y_test = train_test_split( tweet_df['SequenceVector'], tweet_df['Sentiment'], test_size = 0.33, random_state=42)\n",
    "print(X_train.shape,y_train.shape)\n",
    "print(X_test.shape,y_test.shape)"
   ]
  },
  {
   "cell_type": "code",
   "execution_count": 6,
   "metadata": {},
   "outputs": [
    {
     "name": "stderr",
     "output_type": "stream",
     "text": [
      "C:\\Users\\hrbacm\\AppData\\Local\\Continuum\\anaconda3\\envs\\PythonData\\lib\\site-packages\\tensorflow_core\\python\\framework\\indexed_slices.py:424: UserWarning: Converting sparse IndexedSlices to a dense Tensor of unknown shape. This may consume a large amount of memory.\n",
      "  \"Converting sparse IndexedSlices to a dense Tensor of unknown shape. \"\n"
     ]
    },
    {
     "name": "stdout",
     "output_type": "stream",
     "text": [
      "Epoch 1/10\n",
      " - 79s - loss: 0.5548 - accuracy: 0.7090\n",
      "Epoch 2/10\n",
      " - 70s - loss: 0.5192 - accuracy: 0.7384\n",
      "Epoch 3/10\n",
      " - 70s - loss: 0.5080 - accuracy: 0.7470\n",
      "Epoch 4/10\n",
      " - 72s - loss: 0.4972 - accuracy: 0.7522\n",
      "Epoch 5/10\n",
      " - 72s - loss: 0.4878 - accuracy: 0.7581\n",
      "Epoch 6/10\n",
      " - 80s - loss: 0.4813 - accuracy: 0.7614\n",
      "Epoch 7/10\n",
      " - 72s - loss: 0.4734 - accuracy: 0.7656\n",
      "Epoch 8/10\n",
      " - 71s - loss: 0.4661 - accuracy: 0.7698\n",
      "Epoch 9/10\n",
      " - 70s - loss: 0.4575 - accuracy: 0.7754\n",
      "Epoch 10/10\n",
      " - 70s - loss: 0.4484 - accuracy: 0.7823\n"
     ]
    }
   ],
   "source": [
    "# Train model\n",
    "batch_size = 64\n",
    "model.fit(X_train, y_train, epochs = 10, batch_size=batch_size, verbose = 2)\n",
    "\n",
    "# Save model\n",
    "model_file = os.path.join('..', 'Output', 'tweets1_model.h5')\n",
    "model.save_weights(model_file)\n",
    "\n",
    "# Load trained model from file\n",
    "#model_file = os.path.join('..', 'Output', 'tweets1_model.h5')\n",
    "#model.load_weights(model_file)"
   ]
  },
  {
   "cell_type": "code",
   "execution_count": 7,
   "metadata": {},
   "outputs": [
    {
     "name": "stdout",
     "output_type": "stream",
     "text": [
      "score: 0.57\n",
      "acc: 0.72\n"
     ]
    }
   ],
   "source": [
    "# Validation\n",
    "validation_size = 5000\n",
    "\n",
    "aX_validate = X_test[-validation_size:]\n",
    "aY_validate = y_test[-validation_size:]\n",
    "aX_test = X_test[:-validation_size]\n",
    "aY_test = y_test[:-validation_size]\n",
    "score,acc = model.evaluate(aX_test, aY_test, verbose = 2, batch_size = batch_size)\n",
    "print(\"score: %.2f\" % (score))\n",
    "print(\"acc: %.2f\" % (acc))"
   ]
  },
  {
   "cell_type": "code",
   "execution_count": 9,
   "metadata": {},
   "outputs": [
    {
     "name": "stdout",
     "output_type": "stream",
     "text": [
      "pos_acc 76.29843135081204 %\n",
      "neg_acc 67.03139526567975 %\n"
     ]
    }
   ],
   "source": [
    "# Results summary\n",
    "# https://www.kaggle.com/ngyptr/lstm-sentiment-analysis-keras\n",
    "import numpy as np\n",
    "\n",
    "y_prediction = []\n",
    "\n",
    "fck = list(y_test)\n",
    "\n",
    "pos_cnt, neg_cnt, pos_correct, neg_correct = 0, 0, 0, 0\n",
    "for i in range(len(X_test)):\n",
    "        \n",
    "    result = model.predict(X_test[i].reshape(1,X_test[i].shape[0]),batch_size=1,verbose = 2)[0]\n",
    "\n",
    "    y_prediction.append(np.argmax(result))\n",
    "    \n",
    "    if np.argmax(result) == fck[i]:\n",
    "        if fck[i] == 0:\n",
    "            neg_correct += 1\n",
    "        else:\n",
    "            pos_correct += 1\n",
    "       \n",
    "    if fck[i] == 0:\n",
    "        neg_cnt += 1\n",
    "    else:\n",
    "        pos_cnt += 1\n",
    "\n",
    "\n",
    "print(\"pos_acc\", pos_correct/pos_cnt*100, \"%\")\n",
    "print(\"neg_acc\", neg_correct/neg_cnt*100, \"%\")"
   ]
  },
  {
   "cell_type": "code",
   "execution_count": 10,
   "metadata": {},
   "outputs": [
    {
     "name": "stdout",
     "output_type": "stream",
     "text": [
      "[[ 9373  4610]\n",
      " [ 4276 13765]]\n",
      "              precision    recall  f1-score   support\n",
      "\n",
      "           0       0.69      0.67      0.68     13983\n",
      "           1       0.75      0.76      0.76     18041\n",
      "\n",
      "   micro avg       0.72      0.72      0.72     32024\n",
      "   macro avg       0.72      0.72      0.72     32024\n",
      "weighted avg       0.72      0.72      0.72     32024\n",
      "\n",
      "0.7225206095428429\n"
     ]
    }
   ],
   "source": [
    "# Result\n",
    "from sklearn.metrics import classification_report, confusion_matrix, accuracy_score\n",
    "\n",
    "print(confusion_matrix(y_test, y_prediction))\n",
    "print(classification_report(y_test, y_prediction))\n",
    "print(accuracy_score(y_test, y_prediction))"
   ]
  },
  {
   "cell_type": "code",
   "execution_count": null,
   "metadata": {},
   "outputs": [],
   "source": []
  }
 ],
 "metadata": {
  "kernelspec": {
   "display_name": "Python 36 (PythonData)",
   "language": "python",
   "name": "pythondata"
  },
  "language_info": {
   "codemirror_mode": {
    "name": "ipython",
    "version": 3
   },
   "file_extension": ".py",
   "mimetype": "text/x-python",
   "name": "python",
   "nbconvert_exporter": "python",
   "pygments_lexer": "ipython3",
   "version": "3.6.8"
  }
 },
 "nbformat": 4,
 "nbformat_minor": 2
}
