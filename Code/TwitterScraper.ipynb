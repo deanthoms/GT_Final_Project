{
 "cells": [
  {
   "cell_type": "code",
   "execution_count": 35,
   "metadata": {},
   "outputs": [],
   "source": [
    "### Tweet Scraping BABAIAIIIII"
   ]
  },
  {
   "cell_type": "code",
   "execution_count": 42,
   "metadata": {},
   "outputs": [],
   "source": [
    "from splinter import Browser\n",
    "from bs4 import BeautifulSoup\n",
    "import time\n",
    "from flask import Flask, render_template, redirect\n",
    "from flask_pymongo import PyMongo"
   ]
  },
  {
   "cell_type": "code",
   "execution_count": 37,
   "metadata": {},
   "outputs": [],
   "source": [
    "# Set static URL's\n",
    "url1 = \"https://twitter.com/realDonaldTrump?ref_src=twsrc%5Egoogle%7Ctwcamp%5Eserp%7Ctwgr%5Eauthor\"\n",
    "url2 = 'https://twitter.com/BarackObama?ref_src=twsrc%5Egoogle%7Ctwcamp%5Eserp%7Ctwgr%5Eauthor'\n",
    "url3 = 'https://twitter.com/jimmykimmel?ref_src=twsrc%5Egoogle%7Ctwcamp%5Eserp%7Ctwgr%5Eauthor'\n",
    "url4 = 'https://twitter.com/Oprah?ref_src=twsrc%5Egoogle%7Ctwcamp%5Eserp%7Ctwgr%5Eauthor'\n",
    "url5 = 'https://twitter.com/atlnewsnow?lang=en'\n",
    "url6 = 'https://twitter.com/elonmusk?ref_src=twsrc%5Egoogle%7Ctwcamp%5Eserp%7Ctwgr%5Eauthor'\n",
    "url7 = 'https://twitter.com/iamcardib?ref_src=twsrc%5Egoogle%7Ctwcamp%5Eserp%7Ctwgr%5Eauthor'\n",
    "url8 = 'https://twitter.com/m_ryan02?lang=en'\n",
    "url9 = 'https://twitter.com/KimKardashian?ref_src=twsrc%5Egoogle%7Ctwcamp%5Eserp%7Ctwgr%5Eauthor'\n",
    "\n",
    "url_list = [url1, url2, url3, url4, url5, url6, url7, url8, url9]"
   ]
  },
  {
   "cell_type": "code",
   "execution_count": 38,
   "metadata": {},
   "outputs": [],
   "source": [
    "# Create empty dictionary to store tweets\n",
    "tweets = {}\n",
    "\n",
    "# Create counter to dynamically add keys\n",
    "key_counter = 1"
   ]
  },
  {
   "cell_type": "code",
   "execution_count": 39,
   "metadata": {},
   "outputs": [],
   "source": [
    "executable_path = {\"executable_path\": \"/usr/local/bin/chromedriver\"}\n",
    "browser = Browser(\"chrome\", **executable_path, headless=False)"
   ]
  },
  {
   "cell_type": "code",
   "execution_count": 40,
   "metadata": {},
   "outputs": [],
   "source": [
    "# browser = init_browser()\n",
    "for url in url_list:\n",
    "    browser.visit(url)\n",
    "\n",
    "    html = browser.html\n",
    "    soup = BeautifulSoup(html, \"html.parser\")\n",
    "    \n",
    "    tweet = soup.find('div',class_= 'stream-container').find('div', class_='stream').find('li', class_='js-stream-item stream-item stream-item').find('div', class_= 'content').find('div', class_= 'js-tweet-text-container').find('p').get_text()\n",
    "    time.sleep(1.5)\n",
    "    tweets['url'+str(key_counter)] = tweet\n",
    "    key_counter = key_counter + 1"
   ]
  },
  {
   "cell_type": "code",
   "execution_count": 41,
   "metadata": {},
   "outputs": [
    {
     "name": "stdout",
     "output_type": "stream",
     "text": [
      "{'url1': 'https://twitter.com/gop/status/1195136845203542016\\xa0…pic.twitter.com/WKwdBxOkSb', 'url2': 'Stories like this are a reminder of our duty, as a country and as Americans, to support every veteran—not only in words, but in deed. To every veteran out there, thank you. We’re forever in your debt.', 'url3': 'Tonight on #Kimmel Jeff Goldblum #TheWorldAccordingToJeffGoldblum, Camila Morrone #MickeyAndTheBear and\\xa0music\\xa0from Jeff Goldblum & The Mildred Snitzer Orchestra ft.\\xa0@SharonVanEtten #IShouldntBeTellingYouThis', 'url4': 'One of my favorite things to do is rummage through @oprahmagazine’s book editor @leighhaber ‘s office. She has all the latest books often before they’re published. What to my wondering eyes did appear.. a new faaaavorite thing! Find it here: http://oprahmag.com/oprah-favorite-things-2019\\xa0… @MichelleObamapic.twitter.com/xNSyfh1n5f', 'url5': 'A Delta Air Lines MD-88 blew two tires upon landing at Hartsfield-Jackson International Airport on Thursday morning, according to the FAA.https://www.ajc.com/blog/airport/delta-plane-blows-two-tires-upon-landing-hartsfield-jackson/YXclIB0YzKYArgpLuGZU6M/?ecmp=intown&utm_medium=social&utm_source=intown_tw\\xa0…', 'url6': 'Near miss of earth and moon of asteroid apophis in 10 yearspic.twitter.com/5mF7ws4w9H', 'url7': 'Good morning guys My grandma passed away 11-11-11. I look down on my phone is 11:11.I know for a fact she watching me .Thank you Lord for them small little messages that let me know you real.pic.twitter.com/sUufYBcXVl', 'url8': '#DualThreatQBpic.twitter.com/2wGAH13TPj', 'url9': 'Wow just heard about another senseless shooting in Santa Clarita - absolutely devastated and heartbroken. Praying for the families and everyone who has been effected by this tragedy.'}\n"
     ]
    }
   ],
   "source": [
    "print(tweets)"
   ]
  },
  {
   "cell_type": "code",
   "execution_count": null,
   "metadata": {},
   "outputs": [],
   "source": [
    "from flask import Flask, render_template, redirect\n",
    "from flask_pymongo import PyMongo\n",
    "import scrape_twitter\n",
    "\n",
    "app = Flask(__name__)\n",
    "\n",
    "# Use flask_pymongo to set up mongo connection\n",
    "app.config[\"MONGO_URI\"] = \"mongodb://localhost:27017/twitter_app\"\n",
    "mongo = PyMongo(app)\n",
    "\n",
    "@app.route('/')\n",
    "def index():\n",
    "    twitter_info = mongo.db.twitter_info.find_one()\n",
    "    return render_template('index.html', mars_info = mars_info, table = mars_info['df_html'])\n"
   ]
  }
 ],
 "metadata": {
  "kernelspec": {
   "display_name": "Python 36 (PythonData36)",
   "language": "python",
   "name": "pythondata36"
  },
  "language_info": {
   "codemirror_mode": {
    "name": "ipython",
    "version": 3
   },
   "file_extension": ".py",
   "mimetype": "text/x-python",
   "name": "python",
   "nbconvert_exporter": "python",
   "pygments_lexer": "ipython3",
   "version": "3.6.8"
  }
 },
 "nbformat": 4,
 "nbformat_minor": 2
}
